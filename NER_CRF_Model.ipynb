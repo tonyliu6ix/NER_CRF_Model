{
 "cells": [
  {
   "cell_type": "code",
   "execution_count": 1,
   "metadata": {},
   "outputs": [],
   "source": [
    "import pandas as pd\n",
    "\n",
    "from sklearn.model_selection import train_test_split\n",
    "from sklearn_crfsuite import CRF\n",
    "from sklearn_crfsuite.metrics import flat_f1_score\n",
    "from sklearn_crfsuite.metrics import flat_classification_report"
   ]
  },
  {
   "cell_type": "code",
   "execution_count": 2,
   "metadata": {},
   "outputs": [
    {
     "output_type": "execute_result",
     "data": {
      "text/plain": "     Sentence #           Word   POS    Tag\n0   Sentence: 1            The    DT      O\n1           NaN           wife    NN    REL\n2           NaN           was    VBD      O\n3           NaN         killed   VBD  VIO_V\n4           NaN            by     IN      O\n5           NaN           the     DT      O\n6           NaN        husband    NN  Actor\n7   Sentence: 2            The    DT      O\n8           NaN    grandfather    NN  Actor\n9           NaN        abused    VBD  VIO_V\n10          NaN            his  PRP$      O\n11          NaN       grandson    NN    REL\n12  Sentence: 3           The     DT      O\n13          NaN            man    NN  Actor\n14          NaN       harassed   VBD  VIO_V\n15          NaN  sister-in-law    NN    REL",
      "text/html": "<div>\n<style scoped>\n    .dataframe tbody tr th:only-of-type {\n        vertical-align: middle;\n    }\n\n    .dataframe tbody tr th {\n        vertical-align: top;\n    }\n\n    .dataframe thead th {\n        text-align: right;\n    }\n</style>\n<table border=\"1\" class=\"dataframe\">\n  <thead>\n    <tr style=\"text-align: right;\">\n      <th></th>\n      <th>Sentence #</th>\n      <th>Word</th>\n      <th>POS</th>\n      <th>Tag</th>\n    </tr>\n  </thead>\n  <tbody>\n    <tr>\n      <th>0</th>\n      <td>Sentence: 1</td>\n      <td>The</td>\n      <td>DT</td>\n      <td>O</td>\n    </tr>\n    <tr>\n      <th>1</th>\n      <td>NaN</td>\n      <td>wife</td>\n      <td>NN</td>\n      <td>REL</td>\n    </tr>\n    <tr>\n      <th>2</th>\n      <td>NaN</td>\n      <td>was</td>\n      <td>VBD</td>\n      <td>O</td>\n    </tr>\n    <tr>\n      <th>3</th>\n      <td>NaN</td>\n      <td>killed</td>\n      <td>VBD</td>\n      <td>VIO_V</td>\n    </tr>\n    <tr>\n      <th>4</th>\n      <td>NaN</td>\n      <td>by</td>\n      <td>IN</td>\n      <td>O</td>\n    </tr>\n    <tr>\n      <th>5</th>\n      <td>NaN</td>\n      <td>the</td>\n      <td>DT</td>\n      <td>O</td>\n    </tr>\n    <tr>\n      <th>6</th>\n      <td>NaN</td>\n      <td>husband</td>\n      <td>NN</td>\n      <td>Actor</td>\n    </tr>\n    <tr>\n      <th>7</th>\n      <td>Sentence: 2</td>\n      <td>The</td>\n      <td>DT</td>\n      <td>O</td>\n    </tr>\n    <tr>\n      <th>8</th>\n      <td>NaN</td>\n      <td>grandfather</td>\n      <td>NN</td>\n      <td>Actor</td>\n    </tr>\n    <tr>\n      <th>9</th>\n      <td>NaN</td>\n      <td>abused</td>\n      <td>VBD</td>\n      <td>VIO_V</td>\n    </tr>\n    <tr>\n      <th>10</th>\n      <td>NaN</td>\n      <td>his</td>\n      <td>PRP$</td>\n      <td>O</td>\n    </tr>\n    <tr>\n      <th>11</th>\n      <td>NaN</td>\n      <td>grandson</td>\n      <td>NN</td>\n      <td>REL</td>\n    </tr>\n    <tr>\n      <th>12</th>\n      <td>Sentence: 3</td>\n      <td>The</td>\n      <td>DT</td>\n      <td>O</td>\n    </tr>\n    <tr>\n      <th>13</th>\n      <td>NaN</td>\n      <td>man</td>\n      <td>NN</td>\n      <td>Actor</td>\n    </tr>\n    <tr>\n      <th>14</th>\n      <td>NaN</td>\n      <td>harassed</td>\n      <td>VBD</td>\n      <td>VIO_V</td>\n    </tr>\n    <tr>\n      <th>15</th>\n      <td>NaN</td>\n      <td>sister-in-law</td>\n      <td>NN</td>\n      <td>REL</td>\n    </tr>\n  </tbody>\n</table>\n</div>"
     },
     "metadata": {},
     "execution_count": 2
    }
   ],
   "source": [
    "#Reading the csv file\n",
    "df = pd.read_csv('ner_dataset.csv')\n",
    "df"
   ]
  },
  {
   "cell_type": "code",
   "execution_count": 3,
   "metadata": {},
   "outputs": [
    {
     "output_type": "execute_result",
     "data": {
      "text/plain": "    Sentence #         Word  POS    Tag\n0  Sentence: 1          The   DT      O\n1          NaN         wife   NN    REL\n2          NaN         was   VBD      O\n3          NaN       killed  VBD  VIO_V\n4          NaN          by    IN      O\n5          NaN         the    DT      O\n6          NaN      husband   NN  Actor\n7  Sentence: 2          The   DT      O\n8          NaN  grandfather   NN  Actor\n9          NaN      abused   VBD  VIO_V",
      "text/html": "<div>\n<style scoped>\n    .dataframe tbody tr th:only-of-type {\n        vertical-align: middle;\n    }\n\n    .dataframe tbody tr th {\n        vertical-align: top;\n    }\n\n    .dataframe thead th {\n        text-align: right;\n    }\n</style>\n<table border=\"1\" class=\"dataframe\">\n  <thead>\n    <tr style=\"text-align: right;\">\n      <th></th>\n      <th>Sentence #</th>\n      <th>Word</th>\n      <th>POS</th>\n      <th>Tag</th>\n    </tr>\n  </thead>\n  <tbody>\n    <tr>\n      <th>0</th>\n      <td>Sentence: 1</td>\n      <td>The</td>\n      <td>DT</td>\n      <td>O</td>\n    </tr>\n    <tr>\n      <th>1</th>\n      <td>NaN</td>\n      <td>wife</td>\n      <td>NN</td>\n      <td>REL</td>\n    </tr>\n    <tr>\n      <th>2</th>\n      <td>NaN</td>\n      <td>was</td>\n      <td>VBD</td>\n      <td>O</td>\n    </tr>\n    <tr>\n      <th>3</th>\n      <td>NaN</td>\n      <td>killed</td>\n      <td>VBD</td>\n      <td>VIO_V</td>\n    </tr>\n    <tr>\n      <th>4</th>\n      <td>NaN</td>\n      <td>by</td>\n      <td>IN</td>\n      <td>O</td>\n    </tr>\n    <tr>\n      <th>5</th>\n      <td>NaN</td>\n      <td>the</td>\n      <td>DT</td>\n      <td>O</td>\n    </tr>\n    <tr>\n      <th>6</th>\n      <td>NaN</td>\n      <td>husband</td>\n      <td>NN</td>\n      <td>Actor</td>\n    </tr>\n    <tr>\n      <th>7</th>\n      <td>Sentence: 2</td>\n      <td>The</td>\n      <td>DT</td>\n      <td>O</td>\n    </tr>\n    <tr>\n      <th>8</th>\n      <td>NaN</td>\n      <td>grandfather</td>\n      <td>NN</td>\n      <td>Actor</td>\n    </tr>\n    <tr>\n      <th>9</th>\n      <td>NaN</td>\n      <td>abused</td>\n      <td>VBD</td>\n      <td>VIO_V</td>\n    </tr>\n  </tbody>\n</table>\n</div>"
     },
     "metadata": {},
     "execution_count": 3
    }
   ],
   "source": [
    "df.head(10)"
   ]
  },
  {
   "cell_type": "code",
   "execution_count": 4,
   "metadata": {},
   "outputs": [
    {
     "output_type": "execute_result",
     "data": {
      "text/plain": "         Sentence # Word POS Tag\ncount             3   16  16  16\nunique            3   15   5   4\ntop     Sentence: 2  The  NN   O\nfreq              1    2   6   7",
      "text/html": "<div>\n<style scoped>\n    .dataframe tbody tr th:only-of-type {\n        vertical-align: middle;\n    }\n\n    .dataframe tbody tr th {\n        vertical-align: top;\n    }\n\n    .dataframe thead th {\n        text-align: right;\n    }\n</style>\n<table border=\"1\" class=\"dataframe\">\n  <thead>\n    <tr style=\"text-align: right;\">\n      <th></th>\n      <th>Sentence #</th>\n      <th>Word</th>\n      <th>POS</th>\n      <th>Tag</th>\n    </tr>\n  </thead>\n  <tbody>\n    <tr>\n      <th>count</th>\n      <td>3</td>\n      <td>16</td>\n      <td>16</td>\n      <td>16</td>\n    </tr>\n    <tr>\n      <th>unique</th>\n      <td>3</td>\n      <td>15</td>\n      <td>5</td>\n      <td>4</td>\n    </tr>\n    <tr>\n      <th>top</th>\n      <td>Sentence: 2</td>\n      <td>The</td>\n      <td>NN</td>\n      <td>O</td>\n    </tr>\n    <tr>\n      <th>freq</th>\n      <td>1</td>\n      <td>2</td>\n      <td>6</td>\n      <td>7</td>\n    </tr>\n  </tbody>\n</table>\n</div>"
     },
     "metadata": {},
     "execution_count": 4
    }
   ],
   "source": [
    "df.describe()"
   ]
  },
  {
   "cell_type": "code",
   "execution_count": 5,
   "metadata": {},
   "outputs": [
    {
     "output_type": "execute_result",
     "data": {
      "text/plain": "array(['O', 'REL', 'VIO_V', 'Actor'], dtype=object)"
     },
     "metadata": {},
     "execution_count": 5
    }
   ],
   "source": [
    "#Displaying the unique Tags\n",
    "df['Tag'].unique()"
   ]
  },
  {
   "cell_type": "code",
   "execution_count": 6,
   "metadata": {},
   "outputs": [
    {
     "output_type": "execute_result",
     "data": {
      "text/plain": "Sentence #    13\nWord           0\nPOS            0\nTag            0\ndtype: int64"
     },
     "metadata": {},
     "execution_count": 6
    }
   ],
   "source": [
    "#Checking null values, if any.\n",
    "df.isnull().sum()"
   ]
  },
  {
   "cell_type": "code",
   "execution_count": 7,
   "metadata": {},
   "outputs": [],
   "source": [
    "df = df.fillna(method = 'ffill')"
   ]
  },
  {
   "cell_type": "code",
   "execution_count": 8,
   "metadata": {},
   "outputs": [],
   "source": [
    "# This is a class to get sentence. Each sentence will be a list of tuples with its tag and POS.\n",
    "class sentence(object):\n",
    "    def __init__(self, df):\n",
    "        self.n_sent = 1\n",
    "        self.df = df\n",
    "        self.empty = False\n",
    "        agg = lambda s : [(w, p, t) for w, p, t in zip(s['Word'].values.tolist(), s['POS'].values.tolist(), s['Tag'].values.tolist())]\n",
    "        self.grouped = self.df.groupby(\"Sentence #\").apply(agg)\n",
    "        self.sentences = [s for s in self.grouped]\n",
    "        \n",
    "    def get_text(self):\n",
    "        try:\n",
    "            s = self.grouped['Sentence: {}'.format(self.n_sent)]\n",
    "            self.n_sent +=1\n",
    "            return s\n",
    "        except:\n",
    "            return None\n"
   ]
  },
  {
   "cell_type": "code",
   "execution_count": 9,
   "metadata": {},
   "outputs": [
    {
     "output_type": "execute_result",
     "data": {
      "text/plain": "'The wife was  killed by  the  husband'"
     },
     "metadata": {},
     "execution_count": 9
    }
   ],
   "source": [
    "#Displaying one full sentence\n",
    "getter = sentence(df)\n",
    "sentences = [\" \".join([s[0] for s in sent]) for sent in getter.sentences]\n",
    "sentences[0]"
   ]
  },
  {
   "cell_type": "code",
   "execution_count": 10,
   "metadata": {
    "tags": []
   },
   "outputs": [
    {
     "output_type": "stream",
     "name": "stdout",
     "text": "[('The', 'DT', 'O'), ('wife', 'NN', 'REL'), ('was ', 'VBD', 'O'), ('killed', 'VBD', 'VIO_V'), ('by ', 'IN', 'O'), ('the ', 'DT', 'O'), ('husband', 'NN', 'Actor')]\n"
    }
   ],
   "source": [
    "\n",
    "#sentence with its pos and tag.\n",
    "sent = getter.get_text()\n",
    "print(sent)"
   ]
  },
  {
   "cell_type": "code",
   "execution_count": 11,
   "metadata": {},
   "outputs": [],
   "source": [
    "sentences = getter.sentences\n",
    "\n"
   ]
  },
  {
   "cell_type": "code",
   "execution_count": 12,
   "metadata": {},
   "outputs": [],
   "source": [
    "def word2features(sent, i):\n",
    "    word = sent[i][0]\n",
    "    postag = sent[i][1]\n",
    "\n",
    "    features = {\n",
    "        'bias': 1.0,\n",
    "        'word.lower()': word.lower(),\n",
    "        'word[-3:]': word[-3:],\n",
    "        'word[-2:]': word[-2:],\n",
    "        'word.isupper()': word.isupper(),\n",
    "        'word.istitle()': word.istitle(),\n",
    "        'word.isdigit()': word.isdigit(),\n",
    "        'postag': postag,\n",
    "        'postag[:2]': postag[:2],\n",
    "    }\n",
    "    if i > 0:\n",
    "        word1 = sent[i-1][0]\n",
    "        postag1 = sent[i-1][1]\n",
    "        features.update({\n",
    "            '-1:word.lower()': word1.lower(),\n",
    "            '-1:word.istitle()': word1.istitle(),\n",
    "            '-1:word.isupper()': word1.isupper(),\n",
    "            '-1:postag': postag1,\n",
    "            '-1:postag[:2]': postag1[:2],\n",
    "        })\n",
    "    else:\n",
    "        features['BOS'] = True\n",
    "\n",
    "    if i < len(sent)-1:\n",
    "        word1 = sent[i+1][0]\n",
    "        postag1 = sent[i+1][1]\n",
    "        features.update({\n",
    "            '+1:word.lower()': word1.lower(),\n",
    "            '+1:word.istitle()': word1.istitle(),\n",
    "            '+1:word.isupper()': word1.isupper(),\n",
    "            '+1:postag': postag1,\n",
    "            '+1:postag[:2]': postag1[:2],\n",
    "        })\n",
    "    else:\n",
    "        features['EOS'] = True\n",
    "\n",
    "    return features\n",
    "\n",
    "\n",
    "def sent2features(sent):\n",
    "    return [word2features(sent, i) for i in range(len(sent))]\n",
    "\n",
    "def sent2labels(sent):\n",
    "    return [label for token, postag, label in sent]\n",
    "\n",
    "def sent2tokens(sent):\n",
    "    return [token for token, postag, label in sent]"
   ]
  },
  {
   "cell_type": "code",
   "execution_count": 13,
   "metadata": {},
   "outputs": [
    {
     "output_type": "execute_result",
     "data": {
      "text/plain": "[['O', 'REL', 'O', 'VIO_V', 'O', 'O', 'Actor'],\n ['O', 'Actor', 'VIO_V', 'O', 'REL'],\n ['O', 'Actor', 'VIO_V', 'REL']]"
     },
     "metadata": {},
     "execution_count": 13
    }
   ],
   "source": [
    "\n",
    "X = [sent2features(s) for s in sentences]\n",
    "y = [sent2labels(s) for s in sentences]\n",
    "y\n"
   ]
  },
  {
   "cell_type": "code",
   "execution_count": 14,
   "metadata": {},
   "outputs": [
    {
     "output_type": "execute_result",
     "data": {
      "text/plain": "[[{'bias': 1.0,\n   'word.lower()': 'the',\n   'word[-3:]': 'The',\n   'word[-2:]': 'he',\n   'word.isupper()': False,\n   'word.istitle()': True,\n   'word.isdigit()': False,\n   'postag': 'DT',\n   'postag[:2]': 'DT',\n   'BOS': True,\n   '+1:word.lower()': 'wife',\n   '+1:word.istitle()': False,\n   '+1:word.isupper()': False,\n   '+1:postag': 'NN',\n   '+1:postag[:2]': 'NN'},\n  {'bias': 1.0,\n   'word.lower()': 'wife',\n   'word[-3:]': 'ife',\n   'word[-2:]': 'fe',\n   'word.isupper()': False,\n   'word.istitle()': False,\n   'word.isdigit()': False,\n   'postag': 'NN',\n   'postag[:2]': 'NN',\n   '-1:word.lower()': 'the',\n   '-1:word.istitle()': True,\n   '-1:word.isupper()': False,\n   '-1:postag': 'DT',\n   '-1:postag[:2]': 'DT',\n   '+1:word.lower()': 'was ',\n   '+1:word.istitle()': False,\n   '+1:word.isupper()': False,\n   '+1:postag': 'VBD',\n   '+1:postag[:2]': 'VB'},\n  {'bias': 1.0,\n   'word.lower()': 'was ',\n   'word[-3:]': 'as ',\n   'word[-2:]': 's ',\n   'word.isupper()': False,\n   'word.istitle()': False,\n   'word.isdigit()': False,\n   'postag': 'VBD',\n   'postag[:2]': 'VB',\n   '-1:word.lower()': 'wife',\n   '-1:word.istitle()': False,\n   '-1:word.isupper()': False,\n   '-1:postag': 'NN',\n   '-1:postag[:2]': 'NN',\n   '+1:word.lower()': 'killed',\n   '+1:word.istitle()': False,\n   '+1:word.isupper()': False,\n   '+1:postag': 'VBD',\n   '+1:postag[:2]': 'VB'},\n  {'bias': 1.0,\n   'word.lower()': 'killed',\n   'word[-3:]': 'led',\n   'word[-2:]': 'ed',\n   'word.isupper()': False,\n   'word.istitle()': False,\n   'word.isdigit()': False,\n   'postag': 'VBD',\n   'postag[:2]': 'VB',\n   '-1:word.lower()': 'was ',\n   '-1:word.istitle()': False,\n   '-1:word.isupper()': False,\n   '-1:postag': 'VBD',\n   '-1:postag[:2]': 'VB',\n   '+1:word.lower()': 'by ',\n   '+1:word.istitle()': False,\n   '+1:word.isupper()': False,\n   '+1:postag': 'IN',\n   '+1:postag[:2]': 'IN'},\n  {'bias': 1.0,\n   'word.lower()': 'by ',\n   'word[-3:]': 'by ',\n   'word[-2:]': 'y ',\n   'word.isupper()': False,\n   'word.istitle()': False,\n   'word.isdigit()': False,\n   'postag': 'IN',\n   'postag[:2]': 'IN',\n   '-1:word.lower()': 'killed',\n   '-1:word.istitle()': False,\n   '-1:word.isupper()': False,\n   '-1:postag': 'VBD',\n   '-1:postag[:2]': 'VB',\n   '+1:word.lower()': 'the ',\n   '+1:word.istitle()': False,\n   '+1:word.isupper()': False,\n   '+1:postag': 'DT',\n   '+1:postag[:2]': 'DT'},\n  {'bias': 1.0,\n   'word.lower()': 'the ',\n   'word[-3:]': 'he ',\n   'word[-2:]': 'e ',\n   'word.isupper()': False,\n   'word.istitle()': False,\n   'word.isdigit()': False,\n   'postag': 'DT',\n   'postag[:2]': 'DT',\n   '-1:word.lower()': 'by ',\n   '-1:word.istitle()': False,\n   '-1:word.isupper()': False,\n   '-1:postag': 'IN',\n   '-1:postag[:2]': 'IN',\n   '+1:word.lower()': 'husband',\n   '+1:word.istitle()': False,\n   '+1:word.isupper()': False,\n   '+1:postag': 'NN',\n   '+1:postag[:2]': 'NN'},\n  {'bias': 1.0,\n   'word.lower()': 'husband',\n   'word[-3:]': 'and',\n   'word[-2:]': 'nd',\n   'word.isupper()': False,\n   'word.istitle()': False,\n   'word.isdigit()': False,\n   'postag': 'NN',\n   'postag[:2]': 'NN',\n   '-1:word.lower()': 'the ',\n   '-1:word.istitle()': False,\n   '-1:word.isupper()': False,\n   '-1:postag': 'DT',\n   '-1:postag[:2]': 'DT',\n   'EOS': True}]]"
     },
     "metadata": {},
     "execution_count": 14
    }
   ],
   "source": [
    "X_train, X_test, y_train, y_test = train_test_split(X, y, test_size = 0.2)\n",
    "X_test\n"
   ]
  },
  {
   "cell_type": "code",
   "execution_count": 15,
   "metadata": {
    "tags": []
   },
   "outputs": [
    {
     "output_type": "execute_result",
     "data": {
      "text/plain": "CRF(algorithm='lbfgs', all_possible_transitions=False, c1=0.1, c2=0.1,\n    keep_tempfiles=None, max_iterations=100)"
     },
     "metadata": {},
     "execution_count": 15
    }
   ],
   "source": [
    "crf = CRF(algorithm = 'lbfgs',\n",
    "         c1 = 0.1,\n",
    "         c2 = 0.1,\n",
    "         max_iterations = 100,\n",
    "         all_possible_transitions = False)\n",
    "crf.fit(X_train, y_train)"
   ]
  },
  {
   "cell_type": "code",
   "execution_count": 16,
   "metadata": {},
   "outputs": [],
   "source": [
    "#Predicting on the test set.\n",
    "y_pred = crf.predict(X_test)"
   ]
  },
  {
   "cell_type": "code",
   "execution_count": 17,
   "metadata": {
    "tags": []
   },
   "outputs": [
    {
     "output_type": "stream",
     "name": "stdout",
     "text": "[['O', 'Actor', 'VIO_V', 'VIO_V', 'O', 'O', 'REL']]\n"
    }
   ],
   "source": [
    "print(y_pred)\n"
   ]
  }
 ],
 "metadata": {
  "language_info": {
   "codemirror_mode": {
    "name": "ipython",
    "version": 3
   },
   "file_extension": ".py",
   "mimetype": "text/x-python",
   "name": "python",
   "nbconvert_exporter": "python",
   "pygments_lexer": "ipython3",
   "version": "3.6.4-final"
  },
  "orig_nbformat": 2,
  "kernelspec": {
   "name": "python36464bitbaseconda4c47ada83e3d41c9a55c7d4c7f706f90",
   "display_name": "Python 3.6.4 64-bit ('base': conda)"
  }
 },
 "nbformat": 4,
 "nbformat_minor": 2
}